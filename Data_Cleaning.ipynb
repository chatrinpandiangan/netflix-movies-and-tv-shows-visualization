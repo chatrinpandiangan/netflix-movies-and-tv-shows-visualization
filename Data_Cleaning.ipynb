{
 "cells": [
  {
   "cell_type": "markdown",
   "metadata": {},
   "source": [
    "Menggunakan Fungsi fillna pada pandas"
   ]
  },
  {
   "cell_type": "markdown",
   "metadata": {},
   "source": [
    "Recode/Replace"
   ]
  },
  {
   "cell_type": "code",
   "execution_count": 2,
   "metadata": {},
   "outputs": [
    {
     "name": "stdout",
     "output_type": "stream",
     "text": [
      "    show_id     type                                    title  \\\n",
      "0  81145628    Movie  Norm of the North: King Sized Adventure   \n",
      "1  80117401    Movie               Jandino: Whatever it Takes   \n",
      "2  70234439  TV Show                       Transformers Prime   \n",
      "3  80058654  TV Show         Transformers: Robots in Disguise   \n",
      "4  80125979    Movie                             #realityhigh   \n",
      "5  80163890  TV Show                                  Apaches   \n",
      "6  70304989    Movie                                 Automata   \n",
      "7  80164077    Movie       Fabrizio Copano: Solo pienso en mi   \n",
      "8  80117902  TV Show                             Fire Chasers   \n",
      "9  70304990    Movie                              Good People   \n",
      "\n",
      "                          director  \\\n",
      "0         Richard Finn, Tim Maltby   \n",
      "1                                0   \n",
      "2                                0   \n",
      "3                                0   \n",
      "4                 Fernando Lebrija   \n",
      "5                                0   \n",
      "6                      Gabe Ibáñez   \n",
      "7  Rodrigo Toro, Francisco Schultz   \n",
      "8                                0   \n",
      "9                Henrik Ruben Genz   \n",
      "\n",
      "                                                cast  \n",
      "0  Alan Marriott, Andrew Toth, Brian Dobson, Cole...  \n",
      "1                                   Jandino Asporaat  \n",
      "2  Peter Cullen, Sumalee Montano, Frank Welker, J...  \n",
      "3  Will Friedle, Darren Criss, Constance Zimmer, ...  \n",
      "4  Nesta Cooper, Kate Walsh, John Michael Higgins...  \n",
      "5  Alberto Ammann, Eloy Azorín, Verónica Echegui,...  \n",
      "6  Antonio Banderas, Dylan McDermott, Melanie Gri...  \n",
      "7                                    Fabrizio Copano  \n",
      "8                                                  0  \n",
      "9  James Franco, Kate Hudson, Tom Wilkinson, Omar...  \n"
     ]
    }
   ],
   "source": [
    "import pandas as pd\n",
    "netflix = pd.read_csv('./netflix_titles.csv')\n",
    "print(netflix.fillna(0).iloc[0:10, 0:5])"
   ]
  },
  {
   "cell_type": "markdown",
   "metadata": {},
   "source": [
    "Fill Forward"
   ]
  },
  {
   "cell_type": "code",
   "execution_count": 3,
   "metadata": {},
   "outputs": [
    {
     "name": "stdout",
     "output_type": "stream",
     "text": [
      "    show_id     type                               title  \\\n",
      "5  80163890  TV Show                             Apaches   \n",
      "6  70304989    Movie                            Automata   \n",
      "7  80164077    Movie  Fabrizio Copano: Solo pienso en mi   \n",
      "8  80117902  TV Show                        Fire Chasers   \n",
      "9  70304990    Movie                         Good People   \n",
      "\n",
      "                          director  \\\n",
      "5                 Fernando Lebrija   \n",
      "6                      Gabe Ibáñez   \n",
      "7  Rodrigo Toro, Francisco Schultz   \n",
      "8  Rodrigo Toro, Francisco Schultz   \n",
      "9                Henrik Ruben Genz   \n",
      "\n",
      "                                                cast  \n",
      "5  Alberto Ammann, Eloy Azorín, Verónica Echegui,...  \n",
      "6  Antonio Banderas, Dylan McDermott, Melanie Gri...  \n",
      "7                                    Fabrizio Copano  \n",
      "8                                    Fabrizio Copano  \n",
      "9  James Franco, Kate Hudson, Tom Wilkinson, Omar...  \n"
     ]
    }
   ],
   "source": [
    "print(netflix.fillna(method='ffill').iloc[0:10,0:5].tail())"
   ]
  },
  {
   "cell_type": "markdown",
   "metadata": {},
   "source": [
    "Fill Backward"
   ]
  },
  {
   "cell_type": "code",
   "execution_count": 4,
   "metadata": {},
   "outputs": [
    {
     "name": "stdout",
     "output_type": "stream",
     "text": [
      "       show_id     type                                        title director  \\\n",
      "6229  80000063  TV Show                                 Red vs. Blue      NaN   \n",
      "6230  70286564  TV Show                                        Maron      NaN   \n",
      "6231  80116008    Movie       Little Baby Bum: Nursery Rhyme Friends      NaN   \n",
      "6232  70281022  TV Show  A Young Doctor's Notebook and Other Stories      NaN   \n",
      "6233  70153404  TV Show                                      Friends      NaN   \n",
      "\n",
      "                                                   cast  \n",
      "6229  Burnie Burns, Jason Saldaña, Gustavo Sorola, G...  \n",
      "6230  Marc Maron, Judd Hirsch, Josh Brener, Nora Zeh...  \n",
      "6231  Daniel Radcliffe, Jon Hamm, Adam Godley, Chris...  \n",
      "6232  Daniel Radcliffe, Jon Hamm, Adam Godley, Chris...  \n",
      "6233  Jennifer Aniston, Courteney Cox, Lisa Kudrow, ...  \n"
     ]
    }
   ],
   "source": [
    "print(netflix.fillna(method='bfill').iloc[:,0:5].tail())"
   ]
  },
  {
   "cell_type": "markdown",
   "metadata": {},
   "source": [
    "Interpolate"
   ]
  },
  {
   "cell_type": "code",
   "execution_count": 5,
   "metadata": {},
   "outputs": [
    {
     "name": "stdout",
     "output_type": "stream",
     "text": [
      "    show_id     type                                    title  \\\n",
      "0  81145628    Movie  Norm of the North: King Sized Adventure   \n",
      "1  80117401    Movie               Jandino: Whatever it Takes   \n",
      "2  70234439  TV Show                       Transformers Prime   \n",
      "3  80058654  TV Show         Transformers: Robots in Disguise   \n",
      "4  80125979    Movie                             #realityhigh   \n",
      "5  80163890  TV Show                                  Apaches   \n",
      "6  70304989    Movie                                 Automata   \n",
      "7  80164077    Movie       Fabrizio Copano: Solo pienso en mi   \n",
      "8  80117902  TV Show                             Fire Chasers   \n",
      "9  70304990    Movie                              Good People   \n",
      "\n",
      "                          director  \\\n",
      "0         Richard Finn, Tim Maltby   \n",
      "1                              NaN   \n",
      "2                              NaN   \n",
      "3                              NaN   \n",
      "4                 Fernando Lebrija   \n",
      "5                              NaN   \n",
      "6                      Gabe Ibáñez   \n",
      "7  Rodrigo Toro, Francisco Schultz   \n",
      "8                              NaN   \n",
      "9                Henrik Ruben Genz   \n",
      "\n",
      "                                                cast  \n",
      "0  Alan Marriott, Andrew Toth, Brian Dobson, Cole...  \n",
      "1                                   Jandino Asporaat  \n",
      "2  Peter Cullen, Sumalee Montano, Frank Welker, J...  \n",
      "3  Will Friedle, Darren Criss, Constance Zimmer, ...  \n",
      "4  Nesta Cooper, Kate Walsh, John Michael Higgins...  \n",
      "5  Alberto Ammann, Eloy Azorín, Verónica Echegui,...  \n",
      "6  Antonio Banderas, Dylan McDermott, Melanie Gri...  \n",
      "7                                    Fabrizio Copano  \n",
      "8                                                NaN  \n",
      "9  James Franco, Kate Hudson, Tom Wilkinson, Omar...  \n"
     ]
    }
   ],
   "source": [
    "print(netflix.interpolate().iloc[0:10,0:5])"
   ]
  },
  {
   "cell_type": "markdown",
   "metadata": {},
   "source": [
    "Drop Missing Values"
   ]
  },
  {
   "cell_type": "code",
   "execution_count": 6,
   "metadata": {},
   "outputs": [
    {
     "name": "stdout",
     "output_type": "stream",
     "text": [
      "(6234, 12)\n"
     ]
    }
   ],
   "source": [
    "print(netflix.shape)"
   ]
  },
  {
   "cell_type": "code",
   "execution_count": 7,
   "metadata": {},
   "outputs": [
    {
     "name": "stdout",
     "output_type": "stream",
     "text": [
      "(3774, 12)\n"
     ]
    }
   ],
   "source": [
    "netflix_dropna = netflix.dropna()\n",
    "print(netflix_dropna.shape)"
   ]
  },
  {
   "cell_type": "code",
   "execution_count": 8,
   "metadata": {},
   "outputs": [
    {
     "name": "stdout",
     "output_type": "stream",
     "text": [
      "       show_id     type                                    title  \\\n",
      "0     81145628    Movie  Norm of the North: King Sized Adventure   \n",
      "4     80125979    Movie                             #realityhigh   \n",
      "6     70304989    Movie                                 Automata   \n",
      "7     80164077    Movie       Fabrizio Copano: Solo pienso en mi   \n",
      "9     70304990    Movie                              Good People   \n",
      "...        ...      ...                                      ...   \n",
      "6142  80063224  TV Show            The Great British Baking Show   \n",
      "6158  80164216  TV Show  Miraculous: Tales of Ladybug & Cat Noir   \n",
      "6167  80115328  TV Show                             Sacred Games   \n",
      "6182  80176842  TV Show                         Men on a Mission   \n",
      "6213  80126599  TV Show                         Leyla and Mecnun   \n",
      "\n",
      "                                  director  \\\n",
      "0                 Richard Finn, Tim Maltby   \n",
      "4                         Fernando Lebrija   \n",
      "6                              Gabe Ibáñez   \n",
      "7          Rodrigo Toro, Francisco Schultz   \n",
      "9                        Henrik Ruben Genz   \n",
      "...                                    ...   \n",
      "6142                       Andy Devonshire   \n",
      "6158                         Thomas Astruc   \n",
      "6167  Vikramaditya Motwane, Anurag Kashyap   \n",
      "6182                            Jung-ah Im   \n",
      "6213                             Onur Ünlü   \n",
      "\n",
      "                                                   cast  \\\n",
      "0     Alan Marriott, Andrew Toth, Brian Dobson, Cole...   \n",
      "4     Nesta Cooper, Kate Walsh, John Michael Higgins...   \n",
      "6     Antonio Banderas, Dylan McDermott, Melanie Gri...   \n",
      "7                                       Fabrizio Copano   \n",
      "9     James Franco, Kate Hudson, Tom Wilkinson, Omar...   \n",
      "...                                                 ...   \n",
      "6142  Mel Giedroyc, Sue Perkins, Mary Berry, Paul Ho...   \n",
      "6158  Cristina Vee, Bryce Papenbrook, Keith Silverst...   \n",
      "6167  Saif Ali Khan, Nawazuddin Siddiqui, Radhika Ap...   \n",
      "6182  Ho-dong Kang, Soo-geun Lee, Sang-min Lee, Youn...   \n",
      "6213  Ali Atay, Melis Birkan, Serkan Keskin, Ahmet M...   \n",
      "\n",
      "                                             country         date_added  \\\n",
      "0           United States, India, South Korea, China  September 9, 2019   \n",
      "4                                      United States  September 8, 2017   \n",
      "6             Bulgaria, United States, Spain, Canada  September 8, 2017   \n",
      "7                                              Chile  September 8, 2017   \n",
      "9     United States, United Kingdom, Denmark, Sweden  September 8, 2017   \n",
      "...                                              ...                ...   \n",
      "6142                                  United Kingdom    August 30, 2019   \n",
      "6158                      France, South Korea, Japan     August 2, 2019   \n",
      "6167                            India, United States    August 15, 2019   \n",
      "6182                                     South Korea      April 9, 2019   \n",
      "6213                                          Turkey     April 15, 2017   \n",
      "\n",
      "      release_year rating   duration  \\\n",
      "0             2019  TV-PG     90 min   \n",
      "4             2017  TV-14     99 min   \n",
      "6             2014      R    110 min   \n",
      "7             2017  TV-MA     60 min   \n",
      "9             2014      R     90 min   \n",
      "...            ...    ...        ...   \n",
      "6142          2019  TV-PG  7 Seasons   \n",
      "6158          2018  TV-Y7  4 Seasons   \n",
      "6167          2019  TV-MA  2 Seasons   \n",
      "6182          2019  TV-14  4 Seasons   \n",
      "6213          2014  TV-PG  3 Seasons   \n",
      "\n",
      "                                              listed_in  \\\n",
      "0                    Children & Family Movies, Comedies   \n",
      "4                                              Comedies   \n",
      "6     International Movies, Sci-Fi & Fantasy, Thrillers   \n",
      "7                                       Stand-Up Comedy   \n",
      "9                         Action & Adventure, Thrillers   \n",
      "...                                                 ...   \n",
      "6142                       British TV Shows, Reality TV   \n",
      "6158                    Kids' TV, TV Action & Adventure   \n",
      "6167  Crime TV Shows, International TV Shows, TV Dramas   \n",
      "6182  International TV Shows, Korean TV Shows, Stand...   \n",
      "6213  International TV Shows, Romantic TV Shows, TV ...   \n",
      "\n",
      "                                            description  \n",
      "0     Before planning an awesome wedding for his gra...  \n",
      "4     When nerdy high schooler Dani finally attracts...  \n",
      "6     In a dystopian future, an insurance adjuster f...  \n",
      "7     Fabrizio Copano takes audience participation t...  \n",
      "9     A struggling couple can't believe their luck w...  \n",
      "...                                                 ...  \n",
      "6142  A talented batch of amateur bakers face off in...  \n",
      "6158  When Paris is in peril, Marinette becomes Lady...  \n",
      "6167  A link in their pasts leads an honest cop to a...  \n",
      "6182  Male celebs play make-believe as high schooler...  \n",
      "6213  Destiny brings Mecnun and Leyla together as ne...  \n",
      "\n",
      "[3774 rows x 12 columns]\n"
     ]
    }
   ],
   "source": [
    "print(netflix_dropna)"
   ]
  },
  {
   "cell_type": "code",
   "execution_count": null,
   "metadata": {},
   "outputs": [],
   "source": []
  }
 ],
 "metadata": {
  "kernelspec": {
   "display_name": "Python 3",
   "language": "python",
   "name": "python3"
  },
  "language_info": {
   "codemirror_mode": {
    "name": "ipython",
    "version": 3
   },
   "file_extension": ".py",
   "mimetype": "text/x-python",
   "name": "python",
   "nbconvert_exporter": "python",
   "pygments_lexer": "ipython3",
   "version": "3.6.5"
  }
 },
 "nbformat": 4,
 "nbformat_minor": 2
}
